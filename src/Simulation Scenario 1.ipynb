{
 "cells": [
  {
   "cell_type": "code",
   "execution_count": 1,
   "metadata": {
    "collapsed": true
   },
   "outputs": [],
   "source": [
    "from BankSim import *\n",
    "from timerep import *\n",
    "from datetime import timedelta\n",
    "from datetime import datetime\n",
    "import matplotlib.pyplot as plt\n",
    "import copy\n",
    "%matplotlib inline"
   ]
  },
  {
   "cell_type": "code",
   "execution_count": 2,
   "metadata": {
    "collapsed": true
   },
   "outputs": [],
   "source": [
    "# First let's create lists of names of USA states and most of European Union countries (ones that should be safe)\n",
    "USA_states = [\"Alabama\",\"Alaska\",\"Arizona\",\"Arkansas\",\"California\",\"Colorado\",\"Connecticut\",\n",
    "              \"Delaware\",\"Florida\",\"Georgia\",\"Hawaii\",\"Idaho\",\"Illinois\",\"Indiana\",\"Iowa\",\n",
    "              \"Kansas\",\"Kentucky\",\"Louisiana\",\"Maine\",\"Maryland\",\"Massachusetts\",\"Michigan\",\n",
    "              \"Minnesota\",\"Mississippi\",\"Missouri\",\"Montana\",\"Nebraska\",\"Nevada\",\"New Hampshire\",\n",
    "              \"New Jersey\",\"New Mexico\",\"New York\",\"North Carolina\",\"North Dakota\",\"Ohio\",\"Oklahoma\",\n",
    "              \"Oregon\",\"Pennsylvania\",\"Rhode Island\",\"South Carolina\",\"South Dakota\",\"Tennessee\",\n",
    "              \"Texas\",\"Utah\",\"Vermont\",\"Virginia\",\"Washington\",\"West Virginia\",\"Wisconsin\",\"Wyoming\"]\n",
    "EU_countries = [\"Belgium\",\"France\",\"Germany\",\"Italy\",\"Luxembourg\",\"Netherlands\",\"Denmark\",\"Ireland\",\n",
    "             \"United Kingdom\",\"Portugal\",\"Spain\",\"Austria\",\"Finland\",\"Sweden\",\"Czech Republic\",\n",
    "             \"Estonia\",\"Hungary\",\"Latvia\",\"Lithuania\",\"Poland\",\"Slovakia\",\"Slovenia\",\"Bulgaria\",\"Romania\",\"Croatia\"]"
   ]
  },
  {
   "cell_type": "code",
   "execution_count": 3,
   "metadata": {
    "collapsed": true
   },
   "outputs": [],
   "source": [
    "# enum class for transaction type\n",
    "# this transaction type enum isn't used internally while simulating but is used after the transactions \n",
    "# have been generated. They get transformed to just these 2 transaction types.\n",
    "class MyTransactionType(Enum):\n",
    "    \"\"\"Enumeration class for transaction types.\n",
    "    \n",
    "    * DEBIT - all operations that make the balance lower on the account\n",
    "    * CREDIT - all operations that make the balance higher on the account\n",
    "    \"\"\"\n",
    "    DEBIT = 1\n",
    "    CREDIT = 2\n",
    "    \n",
    "    def __str__(self):\n",
    "        \"\"\"Convert enum type into string.\"\"\"\n",
    "        return str(self.name)"
   ]
  },
  {
   "cell_type": "code",
   "execution_count": 4,
   "metadata": {
    "collapsed": true
   },
   "outputs": [],
   "source": [
    "# reimplementation of the Transaction class from the simulator framework\n",
    "# we added ID of transaction, country and bank of sender and receiver\n",
    "# Transaction class is used for creating a record of an executed transaction. \n",
    "# From these transactions we then generate a DataFrame.\n",
    "class MyTransaction(Transaction):\n",
    "    \"\"\"\n",
    "    Class which represents a single transaction, which should equal one row in a dataframe.\n",
    "    \"\"\"\n",
    "    ID = 1\n",
    "\n",
    "    def __init__(self,sender, receiver, tr_type, amount, timestamp, step_count):\n",
    "        super().__init__(sender,receiver,tr_type,amount,timestamp,step_count)\n",
    "        self.sender_country = sender.agent_country\n",
    "        self.receiver_country = receiver.agent_country\n",
    "        self.sender_bank = sender.bank_name\n",
    "        self.receiver_bank = receiver.bank_name"
   ]
  },
  {
   "cell_type": "code",
   "execution_count": 5,
   "metadata": {
    "collapsed": true
   },
   "outputs": [],
   "source": [
    "# reimplementation of the RandomOperation class\n",
    "# we needed to add cutting the float number to just 2 decimal places\n",
    "# also needed to add MyTransaction instead of Transaction and use the function for updating agents' balances\n",
    "class MyRandomOperation(RandomOperation):\n",
    "    def execute(self,timestamp,stepcount):\n",
    "        transactions=[]\n",
    "        assert len(self.tr_type) == len(self.friends_probabilities) == len(self.friends_distributions_of_amount)\n",
    "        for index,receiver in enumerate(self.friends_list):\n",
    "            if random.random() <= self.friends_probabilities[index]:\n",
    "                #probability requirement is satisfied\n",
    "                amount=self.friends_distributions_of_amount[index].sample()\n",
    "                amount = amount_2decimal(amount)\n",
    "                #create transaction\n",
    "                t=MyTransaction(self.sender,receiver,self.tr_type[index],amount,timestamp,stepcount)\n",
    "                update_agents_balances(t.sender,t.receiver,t.tr_type,t.amount)\n",
    "                t.balance_after_posted_sender = t.sender.balance\n",
    "                t.balance_after_posted_receiver = t.receiver.balance\n",
    "#                 t.process_label = self.process_labels[index]\n",
    "                transactions.append(t)\n",
    "        return transactions"
   ]
  },
  {
   "cell_type": "code",
   "execution_count": 6,
   "metadata": {
    "collapsed": true
   },
   "outputs": [],
   "source": [
    "# reimplementation of ScheduledOperation because of the same reason as RandomOperation -- float to 2 decimal places\n",
    "# and updating agents' balances\n",
    "class MyScheduledOperation(ScheduledOperation):\n",
    "    def execute(self,timestamp,stepcount):\n",
    "        transactions=[] #only for providing compatibility\n",
    "        if self.start <= timestamp <= self.end:\n",
    "            # we are in the interval for which the operation should be executable\n",
    "            # we will probably need to turn the stepcount into a datetime\n",
    "            if self.time_distribution.evaluate(timestamp) == True: # the operation should be executed on this stepcount\n",
    "                amount=self.amount_distribution.sample()\n",
    "                amount = amount_2decimal(amount)\n",
    "                t=MyTransaction(self.sender,self.receiver,self.tr_type,amount,timestamp,stepcount)\n",
    "                update_agents_balances(t.sender,t.receiver,t.tr_type,t.amount)\n",
    "                t.balance_after_posted_sender = t.sender.balance\n",
    "                t.balance_after_posted_receiver = t.receiver.balance\n",
    "                transactions.append(t)\n",
    "        return transactions # return list of zero or one transaction(s)"
   ]
  },
  {
   "cell_type": "code",
   "execution_count": 7,
   "metadata": {
    "collapsed": true
   },
   "outputs": [],
   "source": [
    "# reimplementation of Distribution because we wanted to add random state as None\n",
    "class MyDistribution(Distribution):\n",
    "    def sample(self,size=1):\n",
    "        if size == 1:\n",
    "            return self.random_var.rvs(random_state=None)\n",
    "        elif size>1:\n",
    "            return self.random_var.rvs(size=size,random_state=None)\n",
    "        else:\n",
    "            raise ValueError(\"Wrong value for parameter: size.\")"
   ]
  },
  {
   "cell_type": "code",
   "execution_count": 8,
   "metadata": {
    "collapsed": true
   },
   "outputs": [],
   "source": [
    "# class for transforming Connections to Debit Operations of HighMark LLC agent\n",
    "class DebitOps(ConnectionToOperationTransformer):\n",
    "    def transform(self,connections):\n",
    "        # create friends list for every agent\n",
    "        agents={}\n",
    "        for conn in connections:\n",
    "            if conn.origin not in agents:\n",
    "                agents[conn.origin]=[]\n",
    "        for conn in connections:\n",
    "            if conn.target not in agents[conn.origin]:\n",
    "                agents[conn.origin].append(conn.target)\n",
    "        \n",
    "        for agent,conns in agents.items():\n",
    "            # probability of executing the operation\n",
    "            friends_probabilities=np.random.choice([1/125,1/250],p=[0.5,0.5],replace=True,size=len(conns))\n",
    "            friends_list=conns\n",
    "            \n",
    "            # probability distribution for the transaction amount\n",
    "            scipy_distr=scipy.stats.beta(a=1, b=9, loc=1500, scale=30000)\n",
    "            d=MyDistribution(scipy_distr)\n",
    "            \n",
    "            friends_distributions_of_amount=[d for _ in range(len(conns))]\n",
    "            trtypes = [TransactionType.TRANSFER for _ in range(len(conns))]\n",
    "            rop=MyRandomOperation(agent,trtypes,friends_distributions_of_amount,friends_list,friends_probabilities)\n",
    "            agent.add_operation(rop)\n",
    "\n",
    "# class for transforming Connections to Credit Operations that go to HighMark LLC Agent (performed by other agents)\n",
    "class CreditOps(ConnectionToOperationTransformer):\n",
    "    def transform(self,connections):\n",
    "        # create friends list for every agent\n",
    "        agents={}\n",
    "        for conn in connections:\n",
    "            if conn.origin not in agents:\n",
    "                agents[conn.origin]=[]\n",
    "        for conn in connections:\n",
    "            if conn.target not in agents[conn.origin]:\n",
    "                agents[conn.origin].append(conn.target)\n",
    "        \n",
    "        for agent,conns in agents.items():\n",
    "            # probability of executing the operation\n",
    "            friends_probabilities=np.random.choice([9/90,9/180],p=[0.5,0.5],replace=True,size=len(conns))\n",
    "            friends_list=conns\n",
    "            \n",
    "            # probability distribution for the transaction amount\n",
    "            scipy_distr=scipy.stats.beta(a=1, b=9, loc=250, scale=15000)\n",
    "            d=MyDistribution(scipy_distr)\n",
    "            \n",
    "            friends_distributions_of_amount=[d for _ in range(len(conns))]\n",
    "            trtypes = [TransactionType.TRANSFER for _ in range(len(conns))]\n",
    "            rop=MyRandomOperation(agent,trtypes,friends_distributions_of_amount,friends_list,friends_probabilities)\n",
    "            agent.add_operation(rop)\n",
    "        \n",
    "class WeirdOps(ConnectionToOperationTransformer):\n",
    "    def transform(self,connections):\n",
    "        # create friends list for every agent\n",
    "        agents={}\n",
    "        for conn in connections:\n",
    "            if conn.origin not in agents:\n",
    "                agents[conn.origin]=[]\n",
    "        for conn in connections:\n",
    "            if conn.target not in agents[conn.origin]:\n",
    "                agents[conn.origin].append(conn.target)\n",
    "        \n",
    "        for agent,conns in agents.items():\n",
    "            # don't use probabilities, use set dates instead, with some kind of time representation from timerep.py\n",
    "            # => that time representation will be used in combination with ScheduledOperation\n",
    "            self.exprcounter=0\n",
    "            time_expressions=[Cron(\"* * 15,17,19 2 *\"),Cron(\"* * 21,25,27 5 *\"),Cron(\"* * 21,22,27 7 *\")]\n",
    "            # cron format : minute hour day_of_month month day_of_week\n",
    "            \n",
    "            friends_list=conns\n",
    "            \n",
    "            # probability distribution for the transaction amount\n",
    "            scipy_distr=scipy.stats.norm(10000,2000) #scipy.stats.beta(a=1, b=9, loc=250, scale=15000)\n",
    "            d=MyDistribution(scipy_distr)\n",
    "            \n",
    "            # set the overall start and end time (useful for other kinds of time represented operations)\n",
    "            # in this case we just set it to low and high dates so that we don't have trouble with it\n",
    "            # it needs to be set\n",
    "            starts = datetime(1970,1,1,12,0)\n",
    "            ends = datetime(2100,1,1,12,0)\n",
    "            # creating the scheduled operations one by one\n",
    "            for connection in conns:\n",
    "                time_distribution = time_expressions[self.exprcounter]\n",
    "                sop = MyScheduledOperation(agent, connection, TransactionType.TRANSFER, starts,ends, d, time_distribution)\n",
    "                agent.add_operation(sop)\n",
    "                self.exprcounter+=1"
   ]
  },
  {
   "cell_type": "code",
   "execution_count": 9,
   "metadata": {
    "collapsed": true
   },
   "outputs": [],
   "source": [
    "# new implementation of connection generator between agents\n",
    "# we need this because the default generators take only one list of agents in which they are generated absolutely randomly\n",
    "# however we want to be able to set the list for origins and the list for targets\n",
    "class MyConnectionGenerator():\n",
    "    def generate_connections(self,origins_agents,targets_agents,num_connections,repeat_origins=False,repeat_targets=False):\n",
    "        connections=[]\n",
    "        for i in range(num_connections):\n",
    "            origins=np.random.choice(origins_agents, num_connections, replace=repeat_origins)\n",
    "            targets=np.random.choice(targets_agents, num_connections, replace=repeat_targets)\n",
    "            origins = origins.tolist()\n",
    "            targets = targets.tolist()\n",
    "            probabilities=np.random.uniform(size=num_connections)\n",
    "        #generate the connections\n",
    "        for i in range(num_connections):\n",
    "            connections.append(Connection(origins[i],probabilities[i],targets[i]))\n",
    "        return connections"
   ]
  },
  {
   "cell_type": "code",
   "execution_count": 10,
   "metadata": {
    "collapsed": true
   },
   "outputs": [],
   "source": [
    "# implmentation of the main class that controls the simulator behavior\n",
    "class MyModel(BankModel):\n",
    "    def __init__(self,delta,num_fordebit, num_forcredit, num_weird):\n",
    "        \"\"\"\n",
    "        delta (timedelta) : the length of time that is equal to one step of the simulator\n",
    "        num_fordebit (int) : number of agents for debit transactions\n",
    "        num_forcredit (int) : number of agents for credit transactions\n",
    "        num_weird (int) : number of agents for weird transactions - these will be the ones in India\n",
    "        \"\"\"\n",
    "        super().__init__(delta)\n",
    "        self.num_fordebit=num_fordebit\n",
    "        self.num_forcredit=num_forcredit\n",
    "        self.num_weird = num_weird\n",
    "        \n",
    "    def generate_agents(self): # first generate agents\n",
    "        # our main agent\n",
    "        uniq_id = AccountGenerator.get_unique_ID()\n",
    "        name = \"HighMark LLC\"\n",
    "        balance = 61524\n",
    "        country = \"New York\"\n",
    "        bank_name = \"JPMorgan Chase\"\n",
    "        ag = BankAgent(uniq_id,self,uniq_id,name,balance,country,bank_name)\n",
    "        self.main_agent = ag\n",
    "        ag.set_label(\"normal\")\n",
    "        self.add_agent(ag)\n",
    "        \n",
    "        agents_countries=copy.deepcopy(USA_states)\n",
    "        agents_countries.extend(EU_countries)\n",
    "        # these banks don't show up in transactions dataframe currently, but can be made to show up\n",
    "        bank_names_US=[\"JPMorgan Chase\",\"Bank of America\",\"Wells Fargo\",\n",
    "                    \"Citigroup\",\"Goldman Sachs\",\"Morgan Stanley\"] \n",
    "        bank_names_EU = [\"AXA Bank\",\"BRE Bank\",\"Commerzbank\",\"Deutsche Bank \",\"ING Bank\",\"Raiffeisen Bank\",\n",
    "                         \"Citibank Europe\",\"Credit Suisse \",\"UniCredit Bank\",\"OTP Bank\",\"Sberbank\"]\n",
    "        bank_names_US.remove(\"JPMorgan Chase\") # because thats the bank of our agent, we want to emphasize that other \n",
    "        # agents probably use some other bank\n",
    "        \n",
    "        self.agents_fordebit=[]\n",
    "        self.agents_forcredit=[]\n",
    "        self.weird_accs = []\n",
    "        \n",
    "        for i in range(self.num_fordebit):\n",
    "            # agents created for debit transactions don't need to be set up in some special way;\n",
    "            # we just need the right geography/bank to be set for them\n",
    "            uniq_id=AccountGenerator.get_unique_ID()\n",
    "            name=names.get_full_name()\n",
    "            balance = np.random.randint(5000,30000)\n",
    "            country=np.random.choice(agents_countries)\n",
    "            # the bank name should correspond with banks that can be found in the region, e.g. American banks in the US\n",
    "            # and European banks in Europe\n",
    "            if country in USA_states:\n",
    "                bank_name=np.random.choice(bank_names_US)\n",
    "            elif country in EU_countries:\n",
    "                bank_name = np.random.choice(bank_names_EU)\n",
    "            else:\n",
    "                raise ValueError(\"Country is in neither of the lists! That shouldn't happen.\")\n",
    "            ag = BankAgent(uniq_id,self,uniq_id,name,balance,country,bank_name)\n",
    "            # these labels for agents are currently not used in any meaningful way\n",
    "            ag.set_label(\"normal\")\n",
    "            self.add_agent(ag)\n",
    "            self.agents_fordebit.append(ag)\n",
    "            \n",
    "        for i in range(self.num_forcredit):\n",
    "            # agents generated for credit transactions\n",
    "            # we should set the balances of these agents a bit more intelligently\n",
    "            uniq_id=AccountGenerator.get_unique_ID()\n",
    "            name=names.get_full_name()\n",
    "            balance = np.random.randint(3000,15000)\n",
    "            country=np.random.choice(agents_countries)\n",
    "            if country in USA_states:\n",
    "                bank_name=np.random.choice(bank_names_US)\n",
    "            elif country in EU_countries:\n",
    "                bank_name = np.random.choice(bank_names_EU)\n",
    "            else:\n",
    "                raise ValueError(\"Country is in neither of the lists! That shouldn't happen.\")\n",
    "            \n",
    "            ag = BankAgent(uniq_id,self,uniq_id,name,balance,country,bank_name)\n",
    "            ag.set_label(\"normal\")\n",
    "            self.add_agent(ag)\n",
    "            self.agents_forcredit.append(ag)\n",
    "        \n",
    "        for i in range(self.num_weird):\n",
    "            # agents generated for weird transactions (these agents receive them)\n",
    "            uniq_id=AccountGenerator.get_unique_ID()\n",
    "            name=names.get_full_name()\n",
    "            balance = np.random.randint(1500,9500)\n",
    "            country=\"India\"\n",
    "            bank_name=\"Bank of India\"\n",
    "            ag = BankAgent(uniq_id,self,uniq_id,name,balance,country,bank_name)\n",
    "            ag.set_label(\"weird_acc\")\n",
    "            self.add_agent(ag)\n",
    "            self.weird_accs.append(ag)\n",
    "        \n",
    "    def generate_connections(self): # then generate connections between agents\n",
    "        rv=scipy.stats.uniform()\n",
    "        distrib=Distribution(rv) # not needed right now\n",
    "        mcg=MyConnectionGenerator()\n",
    "        self.conns_debit=mcg.generate_connections([self.main_agent],self.agents_fordebit,len(self.agents_fordebit),\n",
    "                                                  repeat_origins=True, repeat_targets=False)\n",
    "        self.conns_credit=mcg.generate_connections(self.agents_forcredit,[self.main_agent],len(self.agents_forcredit),\n",
    "                                                        repeat_origins=False,repeat_targets=True)\n",
    "        self.conns_weird = mcg.generate_connections([self.main_agent],self.weird_accs,len(self.weird_accs),\n",
    "                                                    repeat_origins=True,repeat_targets=False)\n",
    "            \n",
    "    def generate_operations(self): # then generate specific operations\n",
    "        debitops=DebitOps(None,None)\n",
    "        creditops=CreditOps(None,None)\n",
    "        weirdops=WeirdOps(None,None)\n",
    "        debitops.transform(self.conns_debit)\n",
    "        creditops.transform(self.conns_credit)\n",
    "        weirdops.transform(self.conns_weird)\n",
    "        \n",
    "    # the following function is here only because we want to be able to generate a certain view for the transactions\n",
    "    # (from the bank's perspective on the agent)\n",
    "    # which isn't possible to do using the default simulator framework\n",
    "    def transactions_to_df_agentview(self,specified_cols,agent=None):\n",
    "        #we have a custom column order\n",
    "        \"\"\"\n",
    "        Create a ``pandas`` dataframe from existing Transaction objects in ``model.transactions`` list variable.\n",
    "        For this dataframe we have specified a custom column ordering inside the function.\n",
    "        specified_cols (list(str)) : list of columns that should be in the dataframe\n",
    "        agent (BankAgent) : should be the instance of the agent for which we want to generate a dataframe of all\n",
    "            their transactions\n",
    "        \"\"\"\n",
    "        if agent == None:\n",
    "            # we basically can see all the transactions happening\n",
    "            transdict={}\n",
    "            counter=1\n",
    "            for x in self.transactions:\n",
    "                transdict[counter]=x.to_dict()\n",
    "                counter+=1\n",
    "            df = pd.DataFrame.from_dict(transdict,orient='index')\n",
    "            cols = df.columns.tolist()\n",
    "            if specified_cols != None:\n",
    "                custom_cols = specified_cols\n",
    "            else:\n",
    "                custom_cols = ['sender_name','receiver_name','tr_type','amount','timestamp','sender_id','receiver_id','step_count']\n",
    "                for col in cols: #in case there will be additional columns which we don't yet know about\n",
    "                    if col not in custom_cols:\n",
    "                        custom_cols.append(col)\n",
    "            df = df[custom_cols]\n",
    "            return df\n",
    "        else:\n",
    "            # generate a view on the transactions for a specific agent\n",
    "            transdict={}\n",
    "            counter=1\n",
    "            for x in self.transactions:\n",
    "                if x.sender == agent:\n",
    "                    trtype=x.tr_type\n",
    "                    x.tr_type = MyTransactionType.DEBIT\n",
    "                    transdict[counter]=x.to_dict()\n",
    "                    x.tr_type = trtype\n",
    "                    counter+=1\n",
    "                elif x.receiver == agent:\n",
    "                    # we need to create a new kind of Transaction object that will fit the view from the perspective of the bank\n",
    "                    # on that transaction\n",
    "                    new_tx = MyTransaction(x.sender,x.receiver,MyTransactionType.CREDIT,x.amount,x.timestamp,x.step_count)\n",
    "                    new_tx.balance_after_posted_sender = x.balance_after_posted_receiver\n",
    "                    new_tx.balance_after_posted_receiver = x.balance_after_posted_sender\n",
    "                    new_tx.receiver_name = x.sender_name\n",
    "                    new_tx.sender_name = x.receiver_name\n",
    "                    new_tx.receiver_id = x.sender_id\n",
    "                    new_tx.sender_id = x.receiver_id\n",
    "                    \n",
    "                    transdict[counter]=new_tx.to_dict()\n",
    "                    counter+=1\n",
    "                \n",
    "        df = pd.DataFrame.from_dict(transdict,orient='index')\n",
    "        cols = df.columns.tolist()\n",
    "        if specified_cols != None:\n",
    "            custom_cols = specified_cols\n",
    "        else:\n",
    "            custom_cols = ['sender_name','receiver_name','tr_type','amount','timestamp','sender_id','receiver_id','step_count']\n",
    "            for col in cols: #in case there will be additional columns which we don't yet know about\n",
    "                if col not in custom_cols:\n",
    "                    custom_cols.append(col)\n",
    "        df = df[custom_cols]\n",
    "        return df"
   ]
  },
  {
   "cell_type": "code",
   "execution_count": 11,
   "metadata": {
    "collapsed": true
   },
   "outputs": [],
   "source": [
    "num_agnt_debit=100\n",
    "num_agnt_credit=100\n",
    "num_agnt_weird=3\n",
    "model=MyModel(timedelta(days=1),num_fordebit=num_agnt_debit,num_forcredit=num_agnt_credit,num_weird=num_agnt_weird)"
   ]
  },
  {
   "cell_type": "code",
   "execution_count": 12,
   "metadata": {},
   "outputs": [],
   "source": [
    "model.run_model(180) # 180 days = 6 months for us"
   ]
  },
  {
   "cell_type": "code",
   "execution_count": 13,
   "metadata": {
    "collapsed": true
   },
   "outputs": [],
   "source": [
    "specified_cols_agent = ['transaction_id','sender_name','tr_type','amount','timestamp','sender_id','receiver_name','balance_after_posted_sender','sender_country','receiver_country']\n",
    "specified_cols_old = ['transaction_id','sender_name','tr_type','amount','timestamp','sender_id','receiver_name','balance_after_posted_sender','sender_country','receiver_country']\n",
    "# txs=model.transactions_to_df(specified_cols_old)\n",
    "txs = model.transactions_to_df_agentview(specified_cols_agent,model.main_agent)"
   ]
  },
  {
   "cell_type": "code",
   "execution_count": 15,
   "metadata": {},
   "outputs": [
    {
     "data": {
      "text/plain": [
       "CREDIT    1433\n",
       "DEBIT      119\n",
       "Name: tr_type, dtype: int64"
      ]
     },
     "execution_count": 15,
     "metadata": {},
     "output_type": "execute_result"
    }
   ],
   "source": [
    "txs[\"tr_type\"].value_counts()"
   ]
  },
  {
   "cell_type": "code",
   "execution_count": 16,
   "metadata": {},
   "outputs": [
    {
     "data": {
      "text/plain": [
       "1    1433\n",
       "Name: sender_id, dtype: int64"
      ]
     },
     "execution_count": 16,
     "metadata": {},
     "output_type": "execute_result"
    }
   ],
   "source": [
    "# only creadit transaction from one sender are in the dataset\n",
    "txs[txs[\"tr_type\"] == MyTransactionType.CREDIT][\"sender_id\"].value_counts().head(10)"
   ]
  },
  {
   "cell_type": "code",
   "execution_count": 17,
   "metadata": {
    "collapsed": true
   },
   "outputs": [],
   "source": [
    "txs=txs.rename(index=str, columns={\"receiver_name\": \"counter_party\",\"timestamp\":\"txn_posted_timestamp\",\n",
    "                                   \"amount\":\"txn_amount\",\"balance_after_posted_sender\":\"balance_after_posted\",\n",
    "                                  \"sender_name\":\"entity\",\"sender_id\":\"account_id\"})"
   ]
  },
  {
   "cell_type": "code",
   "execution_count": 18,
   "metadata": {},
   "outputs": [
    {
     "data": {
      "text/plain": [
       "70"
      ]
     },
     "execution_count": 18,
     "metadata": {},
     "output_type": "execute_result"
    }
   ],
   "source": [
    "# number of unique counterparties\n",
    "len(set(txs[txs[\"tr_type\"] == MyTransactionType.DEBIT][\"counter_party\"]))"
   ]
  },
  {
   "cell_type": "code",
   "execution_count": 19,
   "metadata": {},
   "outputs": [
    {
     "data": {
      "text/plain": [
       "<matplotlib.axes._subplots.AxesSubplot at 0x7f7229391da0>"
      ]
     },
     "execution_count": 19,
     "metadata": {},
     "output_type": "execute_result"
    },
    {
     "data": {
      "image/png": "[encoded data removed]",
      "text/plain": [
       "<matplotlib.figure.Figure at 0x7f722939c1d0>"
      ]
     },
     "metadata": {},
     "output_type": "display_data"
    }
   ],
   "source": [
    "# number of operations per counterparty\n",
    "txs[txs[\"tr_type\"] == MyTransactionType.DEBIT][\"counter_party\"].value_counts().hist()"
   ]
  },
  {
   "cell_type": "code",
   "execution_count": 20,
   "metadata": {},
   "outputs": [
    {
     "data": {
      "text/html": [
       "<div>\n",
       "<table border=\"1\" class=\"dataframe\">\n",
       "  <thead>\n",
       "    <tr style=\"text-align: right;\">\n",
       "      <th></th>\n",
       "      <th>transaction_id</th>\n",
       "      <th>entity</th>\n",
       "      <th>tr_type</th>\n",
       "      <th>txn_amount</th>\n",
       "      <th>txn_posted_timestamp</th>\n",
       "      <th>account_id</th>\n",
       "      <th>counter_party</th>\n",
       "      <th>balance_after_posted</th>\n",
       "      <th>sender_country</th>\n",
       "      <th>receiver_country</th>\n",
       "    </tr>\n",
       "  </thead>\n",
       "  <tbody>\n",
       "    <tr>\n",
       "      <th>1</th>\n",
       "      <td>1</td>\n",
       "      <td>HighMark LLC</td>\n",
       "      <td>DEBIT</td>\n",
       "      <td>2737.27</td>\n",
       "      <td>2017-02-10 08:00:00</td>\n",
       "      <td>1</td>\n",
       "      <td>Charles Williams</td>\n",
       "      <td>58786.73</td>\n",
       "      <td>New York</td>\n",
       "      <td>Latvia</td>\n",
       "    </tr>\n",
       "    <tr>\n",
       "      <th>2</th>\n",
       "      <td>1553</td>\n",
       "      <td>HighMark LLC</td>\n",
       "      <td>CREDIT</td>\n",
       "      <td>1190.30</td>\n",
       "      <td>2017-02-10 08:00:00</td>\n",
       "      <td>1</td>\n",
       "      <td>June Stanley</td>\n",
       "      <td>59977.03</td>\n",
       "      <td>Kansas</td>\n",
       "      <td>New York</td>\n",
       "    </tr>\n",
       "    <tr>\n",
       "      <th>3</th>\n",
       "      <td>1554</td>\n",
       "      <td>HighMark LLC</td>\n",
       "      <td>CREDIT</td>\n",
       "      <td>519.79</td>\n",
       "      <td>2017-02-10 08:00:00</td>\n",
       "      <td>1</td>\n",
       "      <td>Beulah Thompson</td>\n",
       "      <td>60496.82</td>\n",
       "      <td>Minnesota</td>\n",
       "      <td>New York</td>\n",
       "    </tr>\n",
       "    <tr>\n",
       "      <th>4</th>\n",
       "      <td>1555</td>\n",
       "      <td>HighMark LLC</td>\n",
       "      <td>CREDIT</td>\n",
       "      <td>2995.24</td>\n",
       "      <td>2017-02-10 08:00:00</td>\n",
       "      <td>1</td>\n",
       "      <td>Donald Schmidt</td>\n",
       "      <td>63492.06</td>\n",
       "      <td>Maine</td>\n",
       "      <td>New York</td>\n",
       "    </tr>\n",
       "    <tr>\n",
       "      <th>5</th>\n",
       "      <td>1556</td>\n",
       "      <td>HighMark LLC</td>\n",
       "      <td>CREDIT</td>\n",
       "      <td>587.40</td>\n",
       "      <td>2017-02-11 08:00:00</td>\n",
       "      <td>1</td>\n",
       "      <td>Grace Leonhart</td>\n",
       "      <td>64079.46</td>\n",
       "      <td>Minnesota</td>\n",
       "      <td>New York</td>\n",
       "    </tr>\n",
       "    <tr>\n",
       "      <th>6</th>\n",
       "      <td>1557</td>\n",
       "      <td>HighMark LLC</td>\n",
       "      <td>CREDIT</td>\n",
       "      <td>3743.60</td>\n",
       "      <td>2017-02-11 08:00:00</td>\n",
       "      <td>1</td>\n",
       "      <td>Joshua Steele</td>\n",
       "      <td>67823.06</td>\n",
       "      <td>Bulgaria</td>\n",
       "      <td>New York</td>\n",
       "    </tr>\n",
       "    <tr>\n",
       "      <th>7</th>\n",
       "      <td>1558</td>\n",
       "      <td>HighMark LLC</td>\n",
       "      <td>CREDIT</td>\n",
       "      <td>4920.05</td>\n",
       "      <td>2017-02-11 08:00:00</td>\n",
       "      <td>1</td>\n",
       "      <td>Evangelina Hallman</td>\n",
       "      <td>72743.11</td>\n",
       "      <td>Sweden</td>\n",
       "      <td>New York</td>\n",
       "    </tr>\n",
       "    <tr>\n",
       "      <th>8</th>\n",
       "      <td>1559</td>\n",
       "      <td>HighMark LLC</td>\n",
       "      <td>CREDIT</td>\n",
       "      <td>1331.60</td>\n",
       "      <td>2017-02-11 08:00:00</td>\n",
       "      <td>1</td>\n",
       "      <td>Dawn Goupil</td>\n",
       "      <td>74074.71</td>\n",
       "      <td>Nebraska</td>\n",
       "      <td>New York</td>\n",
       "    </tr>\n",
       "    <tr>\n",
       "      <th>9</th>\n",
       "      <td>1560</td>\n",
       "      <td>HighMark LLC</td>\n",
       "      <td>CREDIT</td>\n",
       "      <td>1864.39</td>\n",
       "      <td>2017-02-11 08:00:00</td>\n",
       "      <td>1</td>\n",
       "      <td>Elizabeth Ramos</td>\n",
       "      <td>75939.10</td>\n",
       "      <td>New York</td>\n",
       "      <td>New York</td>\n",
       "    </tr>\n",
       "    <tr>\n",
       "      <th>10</th>\n",
       "      <td>1561</td>\n",
       "      <td>HighMark LLC</td>\n",
       "      <td>CREDIT</td>\n",
       "      <td>1730.78</td>\n",
       "      <td>2017-02-11 08:00:00</td>\n",
       "      <td>1</td>\n",
       "      <td>Jamie Vogt</td>\n",
       "      <td>77669.88</td>\n",
       "      <td>Sweden</td>\n",
       "      <td>New York</td>\n",
       "    </tr>\n",
       "  </tbody>\n",
       "</table>\n",
       "</div>"
      ],
      "text/plain": [
       "    transaction_id        entity tr_type  txn_amount txn_posted_timestamp  \\\n",
       "1                1  HighMark LLC   DEBIT     2737.27  2017-02-10 08:00:00   \n",
       "2             1553  HighMark LLC  CREDIT     1190.30  2017-02-10 08:00:00   \n",
       "3             1554  HighMark LLC  CREDIT      519.79  2017-02-10 08:00:00   \n",
       "4             1555  HighMark LLC  CREDIT     2995.24  2017-02-10 08:00:00   \n",
       "5             1556  HighMark LLC  CREDIT      587.40  2017-02-11 08:00:00   \n",
       "6             1557  HighMark LLC  CREDIT     3743.60  2017-02-11 08:00:00   \n",
       "7             1558  HighMark LLC  CREDIT     4920.05  2017-02-11 08:00:00   \n",
       "8             1559  HighMark LLC  CREDIT     1331.60  2017-02-11 08:00:00   \n",
       "9             1560  HighMark LLC  CREDIT     1864.39  2017-02-11 08:00:00   \n",
       "10            1561  HighMark LLC  CREDIT     1730.78  2017-02-11 08:00:00   \n",
       "\n",
       "    account_id       counter_party  balance_after_posted sender_country  \\\n",
       "1            1    Charles Williams              58786.73       New York   \n",
       "2            1        June Stanley              59977.03         Kansas   \n",
       "3            1     Beulah Thompson              60496.82      Minnesota   \n",
       "4            1      Donald Schmidt              63492.06          Maine   \n",
       "5            1      Grace Leonhart              64079.46      Minnesota   \n",
       "6            1       Joshua Steele              67823.06       Bulgaria   \n",
       "7            1  Evangelina Hallman              72743.11         Sweden   \n",
       "8            1         Dawn Goupil              74074.71       Nebraska   \n",
       "9            1     Elizabeth Ramos              75939.10       New York   \n",
       "10           1          Jamie Vogt              77669.88         Sweden   \n",
       "\n",
       "   receiver_country  \n",
       "1            Latvia  \n",
       "2          New York  \n",
       "3          New York  \n",
       "4          New York  \n",
       "5          New York  \n",
       "6          New York  \n",
       "7          New York  \n",
       "8          New York  \n",
       "9          New York  \n",
       "10         New York  "
      ]
     },
     "execution_count": 20,
     "metadata": {},
     "output_type": "execute_result"
    }
   ],
   "source": [
    "# sample of transactions\n",
    "txs.head(10)"
   ]
  },
  {
   "cell_type": "code",
   "execution_count": 21,
   "metadata": {},
   "outputs": [
    {
     "data": {
      "text/html": [
       "<div>\n",
       "<table border=\"1\" class=\"dataframe\">\n",
       "  <thead>\n",
       "    <tr style=\"text-align: right;\">\n",
       "      <th></th>\n",
       "      <th>transaction_id</th>\n",
       "      <th>entity</th>\n",
       "      <th>tr_type</th>\n",
       "      <th>txn_amount</th>\n",
       "      <th>txn_posted_timestamp</th>\n",
       "      <th>account_id</th>\n",
       "      <th>counter_party</th>\n",
       "      <th>balance_after_posted</th>\n",
       "      <th>sender_country</th>\n",
       "      <th>receiver_country</th>\n",
       "    </tr>\n",
       "  </thead>\n",
       "  <tbody>\n",
       "    <tr>\n",
       "      <th>1</th>\n",
       "      <td>1</td>\n",
       "      <td>HighMark LLC</td>\n",
       "      <td>DEBIT</td>\n",
       "      <td>2737.27</td>\n",
       "      <td>2017-02-10 08:00:00</td>\n",
       "      <td>1</td>\n",
       "      <td>Charles Williams</td>\n",
       "      <td>58786.73</td>\n",
       "      <td>New York</td>\n",
       "      <td>Latvia</td>\n",
       "    </tr>\n",
       "    <tr>\n",
       "      <th>43</th>\n",
       "      <td>43</td>\n",
       "      <td>HighMark LLC</td>\n",
       "      <td>DEBIT</td>\n",
       "      <td>3769.90</td>\n",
       "      <td>2017-02-15 08:00:00</td>\n",
       "      <td>1</td>\n",
       "      <td>Minnie Peyton</td>\n",
       "      <td>134974.66</td>\n",
       "      <td>New York</td>\n",
       "      <td>South Dakota</td>\n",
       "    </tr>\n",
       "    <tr>\n",
       "      <th>44</th>\n",
       "      <td>44</td>\n",
       "      <td>HighMark LLC</td>\n",
       "      <td>DEBIT</td>\n",
       "      <td>10682.19</td>\n",
       "      <td>2017-02-15 08:00:00</td>\n",
       "      <td>1</td>\n",
       "      <td>Lynn Ferguson</td>\n",
       "      <td>124292.47</td>\n",
       "      <td>New York</td>\n",
       "      <td>India</td>\n",
       "    </tr>\n",
       "    <tr>\n",
       "      <th>46</th>\n",
       "      <td>46</td>\n",
       "      <td>HighMark LLC</td>\n",
       "      <td>DEBIT</td>\n",
       "      <td>7391.46</td>\n",
       "      <td>2017-02-16 08:00:00</td>\n",
       "      <td>1</td>\n",
       "      <td>Donald Torres</td>\n",
       "      <td>119211.74</td>\n",
       "      <td>New York</td>\n",
       "      <td>Washington</td>\n",
       "    </tr>\n",
       "    <tr>\n",
       "      <th>47</th>\n",
       "      <td>47</td>\n",
       "      <td>HighMark LLC</td>\n",
       "      <td>DEBIT</td>\n",
       "      <td>2780.32</td>\n",
       "      <td>2017-02-16 08:00:00</td>\n",
       "      <td>1</td>\n",
       "      <td>Samuel Statler</td>\n",
       "      <td>116431.42</td>\n",
       "      <td>New York</td>\n",
       "      <td>Minnesota</td>\n",
       "    </tr>\n",
       "  </tbody>\n",
       "</table>\n",
       "</div>"
      ],
      "text/plain": [
       "    transaction_id        entity tr_type  txn_amount txn_posted_timestamp  \\\n",
       "1                1  HighMark LLC   DEBIT     2737.27  2017-02-10 08:00:00   \n",
       "43              43  HighMark LLC   DEBIT     3769.90  2017-02-15 08:00:00   \n",
       "44              44  HighMark LLC   DEBIT    10682.19  2017-02-15 08:00:00   \n",
       "46              46  HighMark LLC   DEBIT     7391.46  2017-02-16 08:00:00   \n",
       "47              47  HighMark LLC   DEBIT     2780.32  2017-02-16 08:00:00   \n",
       "\n",
       "    account_id     counter_party  balance_after_posted sender_country  \\\n",
       "1            1  Charles Williams              58786.73       New York   \n",
       "43           1     Minnie Peyton             134974.66       New York   \n",
       "44           1     Lynn Ferguson             124292.47       New York   \n",
       "46           1     Donald Torres             119211.74       New York   \n",
       "47           1    Samuel Statler             116431.42       New York   \n",
       "\n",
       "   receiver_country  \n",
       "1            Latvia  \n",
       "43     South Dakota  \n",
       "44            India  \n",
       "46       Washington  \n",
       "47        Minnesota  "
      ]
     },
     "execution_count": 21,
     "metadata": {},
     "output_type": "execute_result"
    }
   ],
   "source": [
    "# sample of debit transactions only\n",
    "txs[txs[\"tr_type\"] == MyTransactionType.DEBIT].head(5)"
   ]
  },
  {
   "cell_type": "code",
   "execution_count": 22,
   "metadata": {},
   "outputs": [
    {
     "data": {
      "text/html": [
       "<div>\n",
       "<table border=\"1\" class=\"dataframe\">\n",
       "  <thead>\n",
       "    <tr style=\"text-align: right;\">\n",
       "      <th></th>\n",
       "      <th>transaction_id</th>\n",
       "      <th>entity</th>\n",
       "      <th>tr_type</th>\n",
       "      <th>txn_amount</th>\n",
       "      <th>txn_posted_timestamp</th>\n",
       "      <th>account_id</th>\n",
       "      <th>counter_party</th>\n",
       "      <th>balance_after_posted</th>\n",
       "      <th>sender_country</th>\n",
       "      <th>receiver_country</th>\n",
       "    </tr>\n",
       "  </thead>\n",
       "  <tbody>\n",
       "    <tr>\n",
       "      <th>44</th>\n",
       "      <td>44</td>\n",
       "      <td>HighMark LLC</td>\n",
       "      <td>DEBIT</td>\n",
       "      <td>10682.19</td>\n",
       "      <td>2017-02-15 08:00:00</td>\n",
       "      <td>1</td>\n",
       "      <td>Lynn Ferguson</td>\n",
       "      <td>124292.47</td>\n",
       "      <td>New York</td>\n",
       "      <td>India</td>\n",
       "    </tr>\n",
       "    <tr>\n",
       "      <th>55</th>\n",
       "      <td>55</td>\n",
       "      <td>HighMark LLC</td>\n",
       "      <td>DEBIT</td>\n",
       "      <td>12332.15</td>\n",
       "      <td>2017-02-17 08:00:00</td>\n",
       "      <td>1</td>\n",
       "      <td>Lynn Ferguson</td>\n",
       "      <td>99402.17</td>\n",
       "      <td>New York</td>\n",
       "      <td>India</td>\n",
       "    </tr>\n",
       "    <tr>\n",
       "      <th>75</th>\n",
       "      <td>75</td>\n",
       "      <td>HighMark LLC</td>\n",
       "      <td>DEBIT</td>\n",
       "      <td>8478.41</td>\n",
       "      <td>2017-02-19 08:00:00</td>\n",
       "      <td>1</td>\n",
       "      <td>Lynn Ferguson</td>\n",
       "      <td>115749.40</td>\n",
       "      <td>New York</td>\n",
       "      <td>India</td>\n",
       "    </tr>\n",
       "    <tr>\n",
       "      <th>861</th>\n",
       "      <td>861</td>\n",
       "      <td>HighMark LLC</td>\n",
       "      <td>DEBIT</td>\n",
       "      <td>11782.97</td>\n",
       "      <td>2017-05-21 08:00:00</td>\n",
       "      <td>1</td>\n",
       "      <td>Martha Washington</td>\n",
       "      <td>1129985.20</td>\n",
       "      <td>New York</td>\n",
       "      <td>India</td>\n",
       "    </tr>\n",
       "    <tr>\n",
       "      <th>904</th>\n",
       "      <td>904</td>\n",
       "      <td>HighMark LLC</td>\n",
       "      <td>DEBIT</td>\n",
       "      <td>11143.01</td>\n",
       "      <td>2017-05-25 08:00:00</td>\n",
       "      <td>1</td>\n",
       "      <td>Martha Washington</td>\n",
       "      <td>1177770.85</td>\n",
       "      <td>New York</td>\n",
       "      <td>India</td>\n",
       "    </tr>\n",
       "    <tr>\n",
       "      <th>923</th>\n",
       "      <td>923</td>\n",
       "      <td>HighMark LLC</td>\n",
       "      <td>DEBIT</td>\n",
       "      <td>12302.96</td>\n",
       "      <td>2017-05-27 08:00:00</td>\n",
       "      <td>1</td>\n",
       "      <td>Martha Washington</td>\n",
       "      <td>1190936.36</td>\n",
       "      <td>New York</td>\n",
       "      <td>India</td>\n",
       "    </tr>\n",
       "    <tr>\n",
       "      <th>1389</th>\n",
       "      <td>1389</td>\n",
       "      <td>HighMark LLC</td>\n",
       "      <td>DEBIT</td>\n",
       "      <td>10205.05</td>\n",
       "      <td>2017-07-21 08:00:00</td>\n",
       "      <td>1</td>\n",
       "      <td>Karen Sperry</td>\n",
       "      <td>1755261.00</td>\n",
       "      <td>New York</td>\n",
       "      <td>India</td>\n",
       "    </tr>\n",
       "    <tr>\n",
       "      <th>1403</th>\n",
       "      <td>1403</td>\n",
       "      <td>HighMark LLC</td>\n",
       "      <td>DEBIT</td>\n",
       "      <td>10639.37</td>\n",
       "      <td>2017-07-22 08:00:00</td>\n",
       "      <td>1</td>\n",
       "      <td>Karen Sperry</td>\n",
       "      <td>1751912.77</td>\n",
       "      <td>New York</td>\n",
       "      <td>India</td>\n",
       "    </tr>\n",
       "    <tr>\n",
       "      <th>1443</th>\n",
       "      <td>1443</td>\n",
       "      <td>HighMark LLC</td>\n",
       "      <td>DEBIT</td>\n",
       "      <td>10408.96</td>\n",
       "      <td>2017-07-27 08:00:00</td>\n",
       "      <td>1</td>\n",
       "      <td>Karen Sperry</td>\n",
       "      <td>1790939.02</td>\n",
       "      <td>New York</td>\n",
       "      <td>India</td>\n",
       "    </tr>\n",
       "  </tbody>\n",
       "</table>\n",
       "</div>"
      ],
      "text/plain": [
       "      transaction_id        entity tr_type  txn_amount txn_posted_timestamp  \\\n",
       "44                44  HighMark LLC   DEBIT    10682.19  2017-02-15 08:00:00   \n",
       "55                55  HighMark LLC   DEBIT    12332.15  2017-02-17 08:00:00   \n",
       "75                75  HighMark LLC   DEBIT     8478.41  2017-02-19 08:00:00   \n",
       "861              861  HighMark LLC   DEBIT    11782.97  2017-05-21 08:00:00   \n",
       "904              904  HighMark LLC   DEBIT    11143.01  2017-05-25 08:00:00   \n",
       "923              923  HighMark LLC   DEBIT    12302.96  2017-05-27 08:00:00   \n",
       "1389            1389  HighMark LLC   DEBIT    10205.05  2017-07-21 08:00:00   \n",
       "1403            1403  HighMark LLC   DEBIT    10639.37  2017-07-22 08:00:00   \n",
       "1443            1443  HighMark LLC   DEBIT    10408.96  2017-07-27 08:00:00   \n",
       "\n",
       "      account_id      counter_party  balance_after_posted sender_country  \\\n",
       "44             1      Lynn Ferguson             124292.47       New York   \n",
       "55             1      Lynn Ferguson              99402.17       New York   \n",
       "75             1      Lynn Ferguson             115749.40       New York   \n",
       "861            1  Martha Washington            1129985.20       New York   \n",
       "904            1  Martha Washington            1177770.85       New York   \n",
       "923            1  Martha Washington            1190936.36       New York   \n",
       "1389           1       Karen Sperry            1755261.00       New York   \n",
       "1403           1       Karen Sperry            1751912.77       New York   \n",
       "1443           1       Karen Sperry            1790939.02       New York   \n",
       "\n",
       "     receiver_country  \n",
       "44              India  \n",
       "55              India  \n",
       "75              India  \n",
       "861             India  \n",
       "904             India  \n",
       "923             India  \n",
       "1389            India  \n",
       "1403            India  \n",
       "1443            India  "
      ]
     },
     "execution_count": 22,
     "metadata": {},
     "output_type": "execute_result"
    }
   ],
   "source": [
    "# sansactions sent to india\n",
    "txs[txs[\"receiver_country\"] == \"India\"]"
   ]
  },
  {
   "cell_type": "code",
   "execution_count": 23,
   "metadata": {
    "collapsed": true
   },
   "outputs": [],
   "source": [
    "def make_eff_date(row):\n",
    "    dt = row.to_pydatetime() + timedelta(days=1)\n",
    "    return pd.to_datetime(dt)"
   ]
  },
  {
   "cell_type": "code",
   "execution_count": 24,
   "metadata": {
    "collapsed": true
   },
   "outputs": [],
   "source": [
    "txs[\"txn_eff_date\"]=txs[\"txn_posted_timestamp\"].apply(make_eff_date)"
   ]
  },
  {
   "cell_type": "code",
   "execution_count": 25,
   "metadata": {
    "collapsed": true
   },
   "outputs": [],
   "source": [
    "txs[\"txn_posted_timestamp\"]=txs[\"txn_posted_timestamp\"].dt.date"
   ]
  },
  {
   "cell_type": "code",
   "execution_count": 26,
   "metadata": {
    "collapsed": true
   },
   "outputs": [],
   "source": [
    "txs[\"txn_eff_date\"]=txs[\"txn_eff_date\"].dt.date"
   ]
  },
  {
   "cell_type": "code",
   "execution_count": 27,
   "metadata": {},
   "outputs": [
    {
     "data": {
      "text/html": [
       "<div>\n",
       "<table border=\"1\" class=\"dataframe\">\n",
       "  <thead>\n",
       "    <tr style=\"text-align: right;\">\n",
       "      <th></th>\n",
       "      <th>transaction_id</th>\n",
       "      <th>entity</th>\n",
       "      <th>tr_type</th>\n",
       "      <th>txn_amount</th>\n",
       "      <th>txn_posted_timestamp</th>\n",
       "      <th>account_id</th>\n",
       "      <th>counter_party</th>\n",
       "      <th>balance_after_posted</th>\n",
       "      <th>sender_country</th>\n",
       "      <th>receiver_country</th>\n",
       "      <th>txn_eff_date</th>\n",
       "    </tr>\n",
       "  </thead>\n",
       "  <tbody>\n",
       "    <tr>\n",
       "      <th>1</th>\n",
       "      <td>1</td>\n",
       "      <td>HighMark LLC</td>\n",
       "      <td>DEBIT</td>\n",
       "      <td>2737.27</td>\n",
       "      <td>2017-02-10</td>\n",
       "      <td>1</td>\n",
       "      <td>Charles Williams</td>\n",
       "      <td>58786.73</td>\n",
       "      <td>New York</td>\n",
       "      <td>Latvia</td>\n",
       "      <td>2017-02-11</td>\n",
       "    </tr>\n",
       "    <tr>\n",
       "      <th>2</th>\n",
       "      <td>1553</td>\n",
       "      <td>HighMark LLC</td>\n",
       "      <td>CREDIT</td>\n",
       "      <td>1190.30</td>\n",
       "      <td>2017-02-10</td>\n",
       "      <td>1</td>\n",
       "      <td>June Stanley</td>\n",
       "      <td>59977.03</td>\n",
       "      <td>Kansas</td>\n",
       "      <td>New York</td>\n",
       "      <td>2017-02-11</td>\n",
       "    </tr>\n",
       "    <tr>\n",
       "      <th>3</th>\n",
       "      <td>1554</td>\n",
       "      <td>HighMark LLC</td>\n",
       "      <td>CREDIT</td>\n",
       "      <td>519.79</td>\n",
       "      <td>2017-02-10</td>\n",
       "      <td>1</td>\n",
       "      <td>Beulah Thompson</td>\n",
       "      <td>60496.82</td>\n",
       "      <td>Minnesota</td>\n",
       "      <td>New York</td>\n",
       "      <td>2017-02-11</td>\n",
       "    </tr>\n",
       "    <tr>\n",
       "      <th>4</th>\n",
       "      <td>1555</td>\n",
       "      <td>HighMark LLC</td>\n",
       "      <td>CREDIT</td>\n",
       "      <td>2995.24</td>\n",
       "      <td>2017-02-10</td>\n",
       "      <td>1</td>\n",
       "      <td>Donald Schmidt</td>\n",
       "      <td>63492.06</td>\n",
       "      <td>Maine</td>\n",
       "      <td>New York</td>\n",
       "      <td>2017-02-11</td>\n",
       "    </tr>\n",
       "    <tr>\n",
       "      <th>5</th>\n",
       "      <td>1556</td>\n",
       "      <td>HighMark LLC</td>\n",
       "      <td>CREDIT</td>\n",
       "      <td>587.40</td>\n",
       "      <td>2017-02-11</td>\n",
       "      <td>1</td>\n",
       "      <td>Grace Leonhart</td>\n",
       "      <td>64079.46</td>\n",
       "      <td>Minnesota</td>\n",
       "      <td>New York</td>\n",
       "      <td>2017-02-12</td>\n",
       "    </tr>\n",
       "    <tr>\n",
       "      <th>6</th>\n",
       "      <td>1557</td>\n",
       "      <td>HighMark LLC</td>\n",
       "      <td>CREDIT</td>\n",
       "      <td>3743.60</td>\n",
       "      <td>2017-02-11</td>\n",
       "      <td>1</td>\n",
       "      <td>Joshua Steele</td>\n",
       "      <td>67823.06</td>\n",
       "      <td>Bulgaria</td>\n",
       "      <td>New York</td>\n",
       "      <td>2017-02-12</td>\n",
       "    </tr>\n",
       "    <tr>\n",
       "      <th>7</th>\n",
       "      <td>1558</td>\n",
       "      <td>HighMark LLC</td>\n",
       "      <td>CREDIT</td>\n",
       "      <td>4920.05</td>\n",
       "      <td>2017-02-11</td>\n",
       "      <td>1</td>\n",
       "      <td>Evangelina Hallman</td>\n",
       "      <td>72743.11</td>\n",
       "      <td>Sweden</td>\n",
       "      <td>New York</td>\n",
       "      <td>2017-02-12</td>\n",
       "    </tr>\n",
       "    <tr>\n",
       "      <th>8</th>\n",
       "      <td>1559</td>\n",
       "      <td>HighMark LLC</td>\n",
       "      <td>CREDIT</td>\n",
       "      <td>1331.60</td>\n",
       "      <td>2017-02-11</td>\n",
       "      <td>1</td>\n",
       "      <td>Dawn Goupil</td>\n",
       "      <td>74074.71</td>\n",
       "      <td>Nebraska</td>\n",
       "      <td>New York</td>\n",
       "      <td>2017-02-12</td>\n",
       "    </tr>\n",
       "    <tr>\n",
       "      <th>9</th>\n",
       "      <td>1560</td>\n",
       "      <td>HighMark LLC</td>\n",
       "      <td>CREDIT</td>\n",
       "      <td>1864.39</td>\n",
       "      <td>2017-02-11</td>\n",
       "      <td>1</td>\n",
       "      <td>Elizabeth Ramos</td>\n",
       "      <td>75939.10</td>\n",
       "      <td>New York</td>\n",
       "      <td>New York</td>\n",
       "      <td>2017-02-12</td>\n",
       "    </tr>\n",
       "    <tr>\n",
       "      <th>10</th>\n",
       "      <td>1561</td>\n",
       "      <td>HighMark LLC</td>\n",
       "      <td>CREDIT</td>\n",
       "      <td>1730.78</td>\n",
       "      <td>2017-02-11</td>\n",
       "      <td>1</td>\n",
       "      <td>Jamie Vogt</td>\n",
       "      <td>77669.88</td>\n",
       "      <td>Sweden</td>\n",
       "      <td>New York</td>\n",
       "      <td>2017-02-12</td>\n",
       "    </tr>\n",
       "  </tbody>\n",
       "</table>\n",
       "</div>"
      ],
      "text/plain": [
       "    transaction_id        entity tr_type  txn_amount txn_posted_timestamp  \\\n",
       "1                1  HighMark LLC   DEBIT     2737.27           2017-02-10   \n",
       "2             1553  HighMark LLC  CREDIT     1190.30           2017-02-10   \n",
       "3             1554  HighMark LLC  CREDIT      519.79           2017-02-10   \n",
       "4             1555  HighMark LLC  CREDIT     2995.24           2017-02-10   \n",
       "5             1556  HighMark LLC  CREDIT      587.40           2017-02-11   \n",
       "6             1557  HighMark LLC  CREDIT     3743.60           2017-02-11   \n",
       "7             1558  HighMark LLC  CREDIT     4920.05           2017-02-11   \n",
       "8             1559  HighMark LLC  CREDIT     1331.60           2017-02-11   \n",
       "9             1560  HighMark LLC  CREDIT     1864.39           2017-02-11   \n",
       "10            1561  HighMark LLC  CREDIT     1730.78           2017-02-11   \n",
       "\n",
       "    account_id       counter_party  balance_after_posted sender_country  \\\n",
       "1            1    Charles Williams              58786.73       New York   \n",
       "2            1        June Stanley              59977.03         Kansas   \n",
       "3            1     Beulah Thompson              60496.82      Minnesota   \n",
       "4            1      Donald Schmidt              63492.06          Maine   \n",
       "5            1      Grace Leonhart              64079.46      Minnesota   \n",
       "6            1       Joshua Steele              67823.06       Bulgaria   \n",
       "7            1  Evangelina Hallman              72743.11         Sweden   \n",
       "8            1         Dawn Goupil              74074.71       Nebraska   \n",
       "9            1     Elizabeth Ramos              75939.10       New York   \n",
       "10           1          Jamie Vogt              77669.88         Sweden   \n",
       "\n",
       "   receiver_country txn_eff_date  \n",
       "1            Latvia   2017-02-11  \n",
       "2          New York   2017-02-11  \n",
       "3          New York   2017-02-11  \n",
       "4          New York   2017-02-11  \n",
       "5          New York   2017-02-12  \n",
       "6          New York   2017-02-12  \n",
       "7          New York   2017-02-12  \n",
       "8          New York   2017-02-12  \n",
       "9          New York   2017-02-12  \n",
       "10         New York   2017-02-12  "
      ]
     },
     "execution_count": 27,
     "metadata": {},
     "output_type": "execute_result"
    }
   ],
   "source": [
    "txs.head(10)"
   ]
  },
  {
   "cell_type": "code",
   "execution_count": 28,
   "metadata": {},
   "outputs": [
    {
     "data": {
      "text/plain": [
       "(1552, 11)"
      ]
     },
     "execution_count": 28,
     "metadata": {},
     "output_type": "execute_result"
    }
   ],
   "source": [
    "txs[txs[\"entity\"] == \"HighMark LLC\"].shape"
   ]
  },
  {
   "cell_type": "code",
   "execution_count": 28,
   "metadata": {
    "collapsed": true
   },
   "outputs": [],
   "source": [
    "# for saving to csv\n",
    "txs.to_csv(\"sim1.csv\",sep=\",\",header=True,index=False)"
   ]
  },
  {
   "cell_type": "markdown",
   "metadata": {},
   "source": [
    "## Which distributions we want to use for credit and debit operations"
   ]
  },
  {
   "cell_type": "code",
   "execution_count": 29,
   "metadata": {
    "collapsed": true
   },
   "outputs": [],
   "source": [
    "import seaborn as sns"
   ]
  },
  {
   "cell_type": "code",
   "execution_count": 30,
   "metadata": {},
   "outputs": [
    {
     "name": "stdout",
     "output_type": "stream",
     "text": [
      "count    10000.000000\n",
      "mean      2426.107233\n",
      "std       3164.493431\n",
      "min         33.016538\n",
      "25%        751.943641\n",
      "50%       1489.452270\n",
      "75%       2970.658567\n",
      "max      82894.358283\n",
      "dtype: float64\n",
      "Median is 0.992968180249623\n"
     ]
    }
   ],
   "source": [
    "# First for debit\n",
    "# max: 20k, min amount: 1.5k, median : 4k\n",
    "\n",
    "sigma=1\n",
    "mu=0\n",
    "ln=scipy.stats.lognorm(s=sigma,scale=np.exp(mu))\n",
    "# arrc=ln.rvs(size=10000)\n",
    "arrc = scipy.stats.lognorm.rvs(s=sigma,scale=np.exp(mu),size=10000)\n",
    "print (pd.Series(arrc*1500).describe())\n",
    "print (\"Median is {}\".format(np.median(arrc)))"
   ]
  },
  {
   "cell_type": "code",
   "execution_count": 31,
   "metadata": {},
   "outputs": [
    {
     "data": {
      "text/plain": [
       "<matplotlib.axes._subplots.AxesSubplot at 0x7fb3b8e06198>"
      ]
     },
     "execution_count": 31,
     "metadata": {},
     "output_type": "execute_result"
    },
    {
     "name": "stderr",
     "output_type": "stream",
     "text": [
      "/usr/local/lib/python3.5/dist-packages/matplotlib/font_manager.py:1297: UserWarning: findfont: Font family ['sans-serif'] not found. Falling back to DejaVu Sans\n",
      "  (prop.get_family(), self.defaultFamily[fontext]))\n"
     ]
    },
    {
     "data": {
      "image/png": "[encoded data removed]",
      "text/plain": [
       "<matplotlib.figure.Figure at 0x7fb3bbafa470>"
      ]
     },
     "metadata": {},
     "output_type": "display_data"
    }
   ],
   "source": [
    "sns.violinplot(arrc)"
   ]
  },
  {
   "cell_type": "code",
   "execution_count": 32,
   "metadata": {},
   "outputs": [
    {
     "data": {
      "text/plain": [
       "<matplotlib.axes._subplots.AxesSubplot at 0x7fb3b8b5cd68>"
      ]
     },
     "execution_count": 32,
     "metadata": {},
     "output_type": "execute_result"
    },
    {
     "name": "stderr",
     "output_type": "stream",
     "text": [
      "/usr/local/lib/python3.5/dist-packages/matplotlib/font_manager.py:1297: UserWarning: findfont: Font family ['sans-serif'] not found. Falling back to DejaVu Sans\n",
      "  (prop.get_family(), self.defaultFamily[fontext]))\n"
     ]
    },
    {
     "data": {
      "image/png": "[encoded data removed]",
      "text/plain": [
       "<matplotlib.figure.Figure at 0x7fb3b9698cf8>"
      ]
     },
     "metadata": {},
     "output_type": "display_data"
    }
   ],
   "source": [
    "# zatial vyhrava nastavenie \n",
    "# arre = scipy.stats.beta.rvs(a=1, b=7, loc=1500, scale=30000, size=10000, random_state=None)\n",
    "# pripadne\n",
    "# arre = scipy.stats.beta.rvs(a=1, b=9, loc=1500, scale=30000, size=10000, random_state=None)\n",
    "bdistr=scipy.stats.beta(a=2,b=5)\n",
    "# arre=bdistr.rvs(size=10000)\n",
    "arre = scipy.stats.beta.rvs(a=1, b=9, loc=1500, scale=30000, size=10000, random_state=None)\n",
    "sns.violinplot(arre)"
   ]
  },
  {
   "cell_type": "code",
   "execution_count": 33,
   "metadata": {},
   "outputs": [
    {
     "data": {
      "text/plain": [
       "count    10000.000000\n",
       "mean      4515.589228\n",
       "std       2722.208106\n",
       "min       1500.394814\n",
       "25%       2470.831706\n",
       "50%       3748.360844\n",
       "75%       5733.416551\n",
       "max      20786.158989\n",
       "dtype: float64"
      ]
     },
     "execution_count": 33,
     "metadata": {},
     "output_type": "execute_result"
    }
   ],
   "source": [
    "pd.Series(arre).describe()"
   ]
  },
  {
   "cell_type": "code",
   "execution_count": 34,
   "metadata": {},
   "outputs": [
    {
     "data": {
      "text/plain": [
       "3748.360843985045"
      ]
     },
     "execution_count": 34,
     "metadata": {},
     "output_type": "execute_result"
    }
   ],
   "source": [
    "np.median(arre)"
   ]
  },
  {
   "cell_type": "code",
   "execution_count": 35,
   "metadata": {},
   "outputs": [
    {
     "data": {
      "text/plain": [
       "13636.455698893311"
      ]
     },
     "execution_count": 35,
     "metadata": {},
     "output_type": "execute_result"
    }
   ],
   "source": [
    "np.percentile(arre,99)"
   ]
  },
  {
   "cell_type": "code",
   "execution_count": 36,
   "metadata": {},
   "outputs": [
    {
     "data": {
      "text/plain": [
       "<matplotlib.axes._subplots.AxesSubplot at 0x7fb3b8ae9898>"
      ]
     },
     "execution_count": 36,
     "metadata": {},
     "output_type": "execute_result"
    },
    {
     "name": "stderr",
     "output_type": "stream",
     "text": [
      "/usr/local/lib/python3.5/dist-packages/matplotlib/font_manager.py:1297: UserWarning: findfont: Font family ['sans-serif'] not found. Falling back to DejaVu Sans\n",
      "  (prop.get_family(), self.defaultFamily[fontext]))\n"
     ]
    },
    {
     "data": {
      "image/png": "[encoded data removed]",
      "text/plain": [
       "<matplotlib.figure.Figure at 0x7fb3b8af2278>"
      ]
     },
     "metadata": {},
     "output_type": "display_data"
    }
   ],
   "source": [
    "# Second, for credit\n",
    "# max: 10k, min amount: 250, median : 1k\n",
    "arrf = scipy.stats.beta.rvs(a=1, b=9, loc=250, scale=15000, size=10000, random_state=None)\n",
    "sns.violinplot(arrf)"
   ]
  },
  {
   "cell_type": "code",
   "execution_count": 37,
   "metadata": {},
   "outputs": [
    {
     "data": {
      "text/plain": [
       "count    10000.000000\n",
       "mean      1737.133677\n",
       "std       1347.291876\n",
       "min        250.197777\n",
       "25%        717.238699\n",
       "50%       1351.448679\n",
       "75%       2352.353086\n",
       "max      10199.678136\n",
       "dtype: float64"
      ]
     },
     "execution_count": 37,
     "metadata": {},
     "output_type": "execute_result"
    }
   ],
   "source": [
    "pd.Series(arrf).describe()"
   ]
  },
  {
   "cell_type": "code",
   "execution_count": 38,
   "metadata": {},
   "outputs": [
    {
     "data": {
      "text/plain": [
       "1351.4486786035945"
      ]
     },
     "execution_count": 38,
     "metadata": {},
     "output_type": "execute_result"
    }
   ],
   "source": [
    "np.median(arrf)"
   ]
  },
  {
   "cell_type": "code",
   "execution_count": 39,
   "metadata": {},
   "outputs": [
    {
     "data": {
      "text/plain": [
       "count     10.000000\n",
       "mean     111.002230\n",
       "std        3.436235\n",
       "min      105.475725\n",
       "25%      108.367432\n",
       "50%      110.956378\n",
       "75%      113.283470\n",
       "max      117.085180\n",
       "dtype: float64"
      ]
     },
     "execution_count": 39,
     "metadata": {},
     "output_type": "execute_result"
    }
   ],
   "source": [
    "# na pocet agentov\n",
    "pd.Series(np.random.normal(110,5,size=10)).describe()"
   ]
  },
  {
   "cell_type": "code",
   "execution_count": null,
   "metadata": {
    "collapsed": true
   },
   "outputs": [],
   "source": []
  }
 ],
 "metadata": {
  "kernelspec": {
   "display_name": "Python 3",
   "language": "python",
   "name": "python3"
  },
  "language_info": {
   "codemirror_mode": {
    "name": "ipython",
    "version": 3
   },
   "file_extension": ".py",
   "mimetype": "text/x-python",
   "name": "python",
   "nbconvert_exporter": "python",
   "pygments_lexer": "ipython3",
   "version": "3.5.2"
  }
 },
 "nbformat": 4,
 "nbformat_minor": 2
}
